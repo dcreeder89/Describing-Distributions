{
 "cells": [
  {
   "cell_type": "markdown",
   "id": "9ce8265f",
   "metadata": {},
   "source": [
    "# Describing Distributions Assignment\n",
    "- Christina Reeder\n",
    "- 9 Mar 2023"
   ]
  },
  {
   "cell_type": "code",
   "execution_count": 1,
   "id": "6f353885",
   "metadata": {},
   "outputs": [],
   "source": [
    "# import libraries\n",
    "import pandas as pd\n",
    "import numpy as np\n",
    "import matplotlib.pyplot as plt\n",
    "import seaborn as sns\n",
    "from scipy import stats"
   ]
  },
  {
   "cell_type": "markdown",
   "id": "82dff7fb",
   "metadata": {},
   "source": [
    "## Load and Explore Dataset"
   ]
  },
  {
   "cell_type": "code",
   "execution_count": 2,
   "id": "3149326c",
   "metadata": {},
   "outputs": [],
   "source": [
    "url = 'Data/data.csv'\n",
    "df = pd.read_csv(url)"
   ]
  },
  {
   "cell_type": "code",
   "execution_count": 3,
   "id": "70e50487",
   "metadata": {},
   "outputs": [
    {
     "name": "stdout",
     "output_type": "stream",
     "text": [
      "<class 'pandas.core.frame.DataFrame'>\n",
      "RangeIndex: 1000 entries, 0 to 999\n",
      "Data columns (total 32 columns):\n",
      " #   Column              Non-Null Count  Dtype  \n",
      "---  ------              --------------  -----  \n",
      " 0   State               995 non-null    object \n",
      " 1   Lat                 1000 non-null   float64\n",
      " 2   Lng                 1000 non-null   float64\n",
      " 3   Area                995 non-null    object \n",
      " 4   Children            993 non-null    float64\n",
      " 5   Age                 1000 non-null   int64  \n",
      " 6   Income              1000 non-null   float64\n",
      " 7   Marital             995 non-null    object \n",
      " 8   Gender              995 non-null    object \n",
      " 9   ReAdmis             1000 non-null   int64  \n",
      " 10  VitD_levels         1000 non-null   float64\n",
      " 11  Doc_visits          1000 non-null   int64  \n",
      " 12  Full_meals_eaten    1000 non-null   int64  \n",
      " 13  vitD_supp           1000 non-null   int64  \n",
      " 14  Soft_drink          1000 non-null   int64  \n",
      " 15  Initial_admin       995 non-null    object \n",
      " 16  HighBlood           1000 non-null   int64  \n",
      " 17  Stroke              1000 non-null   int64  \n",
      " 18  Complication_risk   995 non-null    object \n",
      " 19  Overweight          1000 non-null   int64  \n",
      " 20  Arthritis           994 non-null    float64\n",
      " 21  Diabetes            994 non-null    float64\n",
      " 22  Hyperlipidemia      998 non-null    float64\n",
      " 23  BackPain            992 non-null    float64\n",
      " 24  Anxiety             998 non-null    float64\n",
      " 25  Allergic_rhinitis   994 non-null    float64\n",
      " 26  Reflux_esophagitis  1000 non-null   int64  \n",
      " 27  Asthma              1000 non-null   int64  \n",
      " 28  Services            995 non-null    object \n",
      " 29  Initial_days        1000 non-null   float64\n",
      " 30  TotalCharge         1000 non-null   float64\n",
      " 31  Additional_charges  1000 non-null   float64\n",
      "dtypes: float64(14), int64(11), object(7)\n",
      "memory usage: 250.1+ KB\n"
     ]
    },
    {
     "data": {
      "text/html": [
       "<div>\n",
       "<style scoped>\n",
       "    .dataframe tbody tr th:only-of-type {\n",
       "        vertical-align: middle;\n",
       "    }\n",
       "\n",
       "    .dataframe tbody tr th {\n",
       "        vertical-align: top;\n",
       "    }\n",
       "\n",
       "    .dataframe thead th {\n",
       "        text-align: right;\n",
       "    }\n",
       "</style>\n",
       "<table border=\"1\" class=\"dataframe\">\n",
       "  <thead>\n",
       "    <tr style=\"text-align: right;\">\n",
       "      <th></th>\n",
       "      <th>State</th>\n",
       "      <th>Lat</th>\n",
       "      <th>Lng</th>\n",
       "      <th>Area</th>\n",
       "      <th>Children</th>\n",
       "      <th>Age</th>\n",
       "      <th>Income</th>\n",
       "      <th>Marital</th>\n",
       "      <th>Gender</th>\n",
       "      <th>ReAdmis</th>\n",
       "      <th>...</th>\n",
       "      <th>Hyperlipidemia</th>\n",
       "      <th>BackPain</th>\n",
       "      <th>Anxiety</th>\n",
       "      <th>Allergic_rhinitis</th>\n",
       "      <th>Reflux_esophagitis</th>\n",
       "      <th>Asthma</th>\n",
       "      <th>Services</th>\n",
       "      <th>Initial_days</th>\n",
       "      <th>TotalCharge</th>\n",
       "      <th>Additional_charges</th>\n",
       "    </tr>\n",
       "  </thead>\n",
       "  <tbody>\n",
       "    <tr>\n",
       "      <th>0</th>\n",
       "      <td>AL</td>\n",
       "      <td>34.34960</td>\n",
       "      <td>-86.72508</td>\n",
       "      <td>Suburban</td>\n",
       "      <td>1.0</td>\n",
       "      <td>53</td>\n",
       "      <td>86575.93</td>\n",
       "      <td>Divorced</td>\n",
       "      <td>Male</td>\n",
       "      <td>0</td>\n",
       "      <td>...</td>\n",
       "      <td>0.0</td>\n",
       "      <td>1.0</td>\n",
       "      <td>1.0</td>\n",
       "      <td>1.0</td>\n",
       "      <td>0</td>\n",
       "      <td>1</td>\n",
       "      <td>Blood Work</td>\n",
       "      <td>10.585770</td>\n",
       "      <td>3726.702860</td>\n",
       "      <td>17939.403420</td>\n",
       "    </tr>\n",
       "    <tr>\n",
       "      <th>1</th>\n",
       "      <td>FL</td>\n",
       "      <td>30.84513</td>\n",
       "      <td>-85.22907</td>\n",
       "      <td>Urban</td>\n",
       "      <td>3.0</td>\n",
       "      <td>51</td>\n",
       "      <td>46805.99</td>\n",
       "      <td>Married</td>\n",
       "      <td>Female</td>\n",
       "      <td>0</td>\n",
       "      <td>...</td>\n",
       "      <td>0.0</td>\n",
       "      <td>0.0</td>\n",
       "      <td>0.0</td>\n",
       "      <td>0.0</td>\n",
       "      <td>1</td>\n",
       "      <td>0</td>\n",
       "      <td>Intravenous</td>\n",
       "      <td>15.129562</td>\n",
       "      <td>4193.190458</td>\n",
       "      <td>17612.998120</td>\n",
       "    </tr>\n",
       "    <tr>\n",
       "      <th>2</th>\n",
       "      <td>SD</td>\n",
       "      <td>43.54321</td>\n",
       "      <td>-96.63772</td>\n",
       "      <td>Suburban</td>\n",
       "      <td>3.0</td>\n",
       "      <td>53</td>\n",
       "      <td>14370.14</td>\n",
       "      <td>Widowed</td>\n",
       "      <td>Female</td>\n",
       "      <td>0</td>\n",
       "      <td>...</td>\n",
       "      <td>0.0</td>\n",
       "      <td>0.0</td>\n",
       "      <td>0.0</td>\n",
       "      <td>0.0</td>\n",
       "      <td>0</td>\n",
       "      <td>0</td>\n",
       "      <td>Blood Work</td>\n",
       "      <td>4.772177</td>\n",
       "      <td>2434.234222</td>\n",
       "      <td>17505.192460</td>\n",
       "    </tr>\n",
       "    <tr>\n",
       "      <th>3</th>\n",
       "      <td>MN</td>\n",
       "      <td>43.89744</td>\n",
       "      <td>-93.51479</td>\n",
       "      <td>Suburban</td>\n",
       "      <td>0.0</td>\n",
       "      <td>78</td>\n",
       "      <td>39741.49</td>\n",
       "      <td>Married</td>\n",
       "      <td>Male</td>\n",
       "      <td>0</td>\n",
       "      <td>...</td>\n",
       "      <td>0.0</td>\n",
       "      <td>0.0</td>\n",
       "      <td>0.0</td>\n",
       "      <td>0.0</td>\n",
       "      <td>1</td>\n",
       "      <td>1</td>\n",
       "      <td>Blood Work</td>\n",
       "      <td>1.714879</td>\n",
       "      <td>2127.830423</td>\n",
       "      <td>12993.437350</td>\n",
       "    </tr>\n",
       "    <tr>\n",
       "      <th>4</th>\n",
       "      <td>VA</td>\n",
       "      <td>37.59894</td>\n",
       "      <td>-76.88958</td>\n",
       "      <td>Rural</td>\n",
       "      <td>1.0</td>\n",
       "      <td>22</td>\n",
       "      <td>1209.56</td>\n",
       "      <td>Widowed</td>\n",
       "      <td>Female</td>\n",
       "      <td>0</td>\n",
       "      <td>...</td>\n",
       "      <td>1.0</td>\n",
       "      <td>0.0</td>\n",
       "      <td>0.0</td>\n",
       "      <td>1.0</td>\n",
       "      <td>0</td>\n",
       "      <td>0</td>\n",
       "      <td>CT Scan</td>\n",
       "      <td>1.254807</td>\n",
       "      <td>2113.073274</td>\n",
       "      <td>3716.525786</td>\n",
       "    </tr>\n",
       "  </tbody>\n",
       "</table>\n",
       "<p>5 rows × 32 columns</p>\n",
       "</div>"
      ],
      "text/plain": [
       "  State       Lat       Lng      Area  Children  Age    Income   Marital  \\\n",
       "0    AL  34.34960 -86.72508  Suburban       1.0   53  86575.93  Divorced   \n",
       "1    FL  30.84513 -85.22907     Urban       3.0   51  46805.99   Married   \n",
       "2    SD  43.54321 -96.63772  Suburban       3.0   53  14370.14   Widowed   \n",
       "3    MN  43.89744 -93.51479  Suburban       0.0   78  39741.49   Married   \n",
       "4    VA  37.59894 -76.88958     Rural       1.0   22   1209.56   Widowed   \n",
       "\n",
       "   Gender  ReAdmis  ...  Hyperlipidemia  BackPain  Anxiety  Allergic_rhinitis  \\\n",
       "0    Male        0  ...             0.0       1.0      1.0                1.0   \n",
       "1  Female        0  ...             0.0       0.0      0.0                0.0   \n",
       "2  Female        0  ...             0.0       0.0      0.0                0.0   \n",
       "3    Male        0  ...             0.0       0.0      0.0                0.0   \n",
       "4  Female        0  ...             1.0       0.0      0.0                1.0   \n",
       "\n",
       "   Reflux_esophagitis Asthma     Services  Initial_days  TotalCharge  \\\n",
       "0                   0      1   Blood Work     10.585770  3726.702860   \n",
       "1                   1      0  Intravenous     15.129562  4193.190458   \n",
       "2                   0      0   Blood Work      4.772177  2434.234222   \n",
       "3                   1      1   Blood Work      1.714879  2127.830423   \n",
       "4                   0      0      CT Scan      1.254807  2113.073274   \n",
       "\n",
       "   Additional_charges  \n",
       "0        17939.403420  \n",
       "1        17612.998120  \n",
       "2        17505.192460  \n",
       "3        12993.437350  \n",
       "4         3716.525786  \n",
       "\n",
       "[5 rows x 32 columns]"
      ]
     },
     "execution_count": 3,
     "metadata": {},
     "output_type": "execute_result"
    }
   ],
   "source": [
    "df.info()\n",
    "df.head()"
   ]
  },
  {
   "cell_type": "markdown",
   "id": "11311b02",
   "metadata": {},
   "source": [
    "## VitD_levels Column Analysis"
   ]
  },
  {
   "cell_type": "markdown",
   "id": "3d92febe",
   "metadata": {},
   "source": [
    "### Plot Histogram"
   ]
  },
  {
   "cell_type": "code",
   "execution_count": 4,
   "id": "54f0c937",
   "metadata": {},
   "outputs": [
    {
     "data": {
      "image/png": "[encoded data removed]",
      "text/plain": [
       "<Figure size 1000x600 with 1 Axes>"
      ]
     },
     "metadata": {},
     "output_type": "display_data"
    }
   ],
   "source": [
    "# define column we are looking at\n",
    "col = 'VitD_levels'\n",
    "feature = df[col]\n",
    "\n",
    "# find the mean and median\n",
    "mean = feature.mean()\n",
    "median = feature.median()\n",
    "\n",
    "# find +/- 1 std from mean\n",
    "std = feature.std()\n",
    "plus_one_std = mean + std\n",
    "minus_one_std = mean - std\n",
    "\n",
    "# plot histogram\n",
    "fig,ax = plt.subplots(figsize=(10,6))\n",
    "sns.histplot(feature, ax=ax, stat='probability')\n",
    "ax.set_title(f'{col} Column Data', fontsize=20, fontweight='bold')\n",
    "\n",
    "# add red line for mean value\n",
    "ax.axvline(mean, color='red', label=f'Mean = {mean:,.2f}')\n",
    "# add green line for median value\n",
    "ax.axvline(median,ls='--', color='green', label=f'Median = {median:,.2f}')\n",
    "# add black lines for +/- 1 std from mean, and highlight range in yellow\n",
    "ax.axvline(plus_one_std, color='black', label=f'+1 std = {plus_one_std:,.2f}')\n",
    "ax.axvline(minus_one_std, color='black', label=f'-1 std = {minus_one_std:,.2f}')\n",
    "ax.axvspan(plus_one_std, minus_one_std, color='yellow', zorder=0)\n",
    "# show legend\n",
    "ax.legend();"
   ]
  },
  {
   "cell_type": "markdown",
   "id": "d3a0e094",
   "metadata": {},
   "source": [
    "### Questions"
   ]
  },
  {
   "cell_type": "markdown",
   "id": "7926cf6e",
   "metadata": {},
   "source": [
    "#### Is it Discrete or Continuous?"
   ]
  },
  {
   "cell_type": "markdown",
   "id": "adc529ce",
   "metadata": {},
   "source": [
    "Continuous. The column is a float, and the distributions can take on nearly an infinite number of values. "
   ]
  },
  {
   "cell_type": "markdown",
   "id": "4375a2c6",
   "metadata": {},
   "source": [
    "#### Does it have a skew? If so, which direction (+/-)"
   ]
  },
  {
   "cell_type": "markdown",
   "id": "8c054773",
   "metadata": {},
   "source": [
    "Very slight negative skew. However, the mean and median values are so close I'd even call it no skew."
   ]
  },
  {
   "cell_type": "markdown",
   "id": "d50c0a62",
   "metadata": {},
   "source": [
    "#### What type of kurtosis does it display? (Mesokurtic, Leptokurtic, Platykurtic)"
   ]
  },
  {
   "cell_type": "code",
   "execution_count": 5,
   "id": "015662c6",
   "metadata": {},
   "outputs": [
    {
     "data": {
      "text/plain": [
       "3.013147515833447"
      ]
     },
     "execution_count": 5,
     "metadata": {},
     "output_type": "execute_result"
    }
   ],
   "source": [
    "stats.kurtosis(feature, fisher = False)"
   ]
  },
  {
   "cell_type": "markdown",
   "id": "1d530bac",
   "metadata": {},
   "source": [
    "Mesokurtic (Kurtosis ~3)"
   ]
  },
  {
   "cell_type": "markdown",
   "id": "370b84b3",
   "metadata": {},
   "source": [
    "## Doc_visits Column Analysis"
   ]
  },
  {
   "cell_type": "markdown",
   "id": "47400139",
   "metadata": {},
   "source": [
    "### Plot Histogram"
   ]
  },
  {
   "cell_type": "code",
   "execution_count": 6,
   "id": "bb07988f",
   "metadata": {},
   "outputs": [
    {
     "data": {
      "image/png": "[encoded data removed]",
      "text/plain": [
       "<Figure size 1000x600 with 1 Axes>"
      ]
     },
     "metadata": {},
     "output_type": "display_data"
    }
   ],
   "source": [
    "# define column we are looking at\n",
    "col = 'Doc_visits'\n",
    "feature = df[col]\n",
    "\n",
    "# find the mean and median\n",
    "mean = feature.mean()\n",
    "median = feature.median()\n",
    "\n",
    "# find +/- 1 std from mean\n",
    "std = feature.std()\n",
    "plus_one_std = mean + std\n",
    "minus_one_std = mean - std\n",
    "\n",
    "# plot histogram\n",
    "fig,ax = plt.subplots(figsize=(10,6))\n",
    "sns.histplot(feature, ax=ax, stat='probability')\n",
    "ax.set_title(f'{col} Column Data', fontsize=20, fontweight='bold')\n",
    "\n",
    "# add red line for mean value\n",
    "ax.axvline(mean, color='red', label=f'Mean = {mean:,.2f}')\n",
    "# add green line for median value\n",
    "ax.axvline(median,ls='--', color='green', label=f'Median = {median:,.2f}')\n",
    "# add black lines for +/- 1 std from mean, and highlight range in yellow\n",
    "ax.axvline(plus_one_std, color='black', label=f'+1 std = {plus_one_std:,.2f}')\n",
    "ax.axvline(minus_one_std, color='black', label=f'-1 std = {minus_one_std:,.2f}')\n",
    "ax.axvspan(plus_one_std, minus_one_std, color='yellow', zorder=0)\n",
    "# show legend\n",
    "ax.legend();"
   ]
  },
  {
   "cell_type": "markdown",
   "id": "ff45df07",
   "metadata": {},
   "source": [
    "### Questions"
   ]
  },
  {
   "cell_type": "markdown",
   "id": "9d1f442b",
   "metadata": {},
   "source": [
    "#### Is it Discrete or Continuous?"
   ]
  },
  {
   "cell_type": "markdown",
   "id": "98480253",
   "metadata": {},
   "source": [
    "Discrete. The column is an integer and can only take on certain values."
   ]
  },
  {
   "cell_type": "markdown",
   "id": "a4ae0ef4",
   "metadata": {},
   "source": [
    "#### Does it have a skew? If so, which direction (+/-)"
   ]
  },
  {
   "cell_type": "markdown",
   "id": "2c9625ac",
   "metadata": {},
   "source": [
    "No Skew"
   ]
  },
  {
   "cell_type": "markdown",
   "id": "51318523",
   "metadata": {},
   "source": [
    "#### What type of kurtosis does it display? (Mesokurtic, Leptokurtic, Platykurtic)"
   ]
  },
  {
   "cell_type": "code",
   "execution_count": 7,
   "id": "bd612367",
   "metadata": {},
   "outputs": [
    {
     "data": {
      "text/plain": [
       "2.9919958083381206"
      ]
     },
     "execution_count": 7,
     "metadata": {},
     "output_type": "execute_result"
    }
   ],
   "source": [
    "stats.kurtosis(feature, fisher = False)"
   ]
  },
  {
   "cell_type": "markdown",
   "id": "5231557b",
   "metadata": {},
   "source": [
    "Mesokurtic (Kurtosis ~3)"
   ]
  },
  {
   "cell_type": "markdown",
   "id": "d24c3c2e",
   "metadata": {},
   "source": [
    "## TotalCharge Column Analysis"
   ]
  },
  {
   "cell_type": "markdown",
   "id": "b38aa11e",
   "metadata": {},
   "source": [
    "### Plot Histogram"
   ]
  },
  {
   "cell_type": "code",
   "execution_count": 8,
   "id": "2e15c701",
   "metadata": {},
   "outputs": [
    {
     "data": {
      "image/png": "[encoded data removed]",
      "text/plain": [
       "<Figure size 1000x600 with 1 Axes>"
      ]
     },
     "metadata": {},
     "output_type": "display_data"
    }
   ],
   "source": [
    "# define column we are looking at\n",
    "col = 'TotalCharge'\n",
    "feature = df[col]\n",
    "\n",
    "# find the mean and median\n",
    "mean = feature.mean()\n",
    "median = feature.median()\n",
    "\n",
    "# find +/- 1 std from mean\n",
    "std = feature.std()\n",
    "plus_one_std = mean + std\n",
    "minus_one_std = mean - std\n",
    "\n",
    "# plot histogram\n",
    "fig,ax = plt.subplots(figsize=(10,6))\n",
    "sns.histplot(feature, ax=ax, stat='probability')\n",
    "ax.set_title(f'{col} Column Data', fontsize=20, fontweight='bold')\n",
    "\n",
    "# add red line for mean value\n",
    "ax.axvline(mean, color='red', label=f'Mean = {mean:,.2f}')\n",
    "# add green line for median value\n",
    "ax.axvline(median,ls='--', color='green', label=f'Median = {median:,.2f}')\n",
    "# add black lines for +/- 1 std from mean, and highlight range in yellow\n",
    "ax.axvline(plus_one_std, color='black', label=f'+1 std = {plus_one_std:,.2f}')\n",
    "ax.axvline(minus_one_std, color='black', label=f'-1 std = {minus_one_std:,.2f}')\n",
    "ax.axvspan(plus_one_std, minus_one_std, color='yellow', zorder=0)\n",
    "# show legend\n",
    "ax.legend();"
   ]
  },
  {
   "cell_type": "markdown",
   "id": "ff74eca6",
   "metadata": {},
   "source": [
    "### Questions"
   ]
  },
  {
   "cell_type": "markdown",
   "id": "777a2a31",
   "metadata": {},
   "source": [
    "#### Is it Discrete or Continuous?"
   ]
  },
  {
   "cell_type": "markdown",
   "id": "3c1fbddd",
   "metadata": {},
   "source": [
    "Continuous. The column is a float, and the distributions can take on nearly an infinite number of values. "
   ]
  },
  {
   "cell_type": "markdown",
   "id": "b33f14c7",
   "metadata": {},
   "source": [
    "#### Does it have a skew? If so, which direction (+/-)"
   ]
  },
  {
   "cell_type": "markdown",
   "id": "785e2b96",
   "metadata": {},
   "source": [
    "Positive Skew"
   ]
  },
  {
   "cell_type": "markdown",
   "id": "291cb0b9",
   "metadata": {},
   "source": [
    "#### What type of kurtosis does it display? (Mesokurtic, Leptokurtic, Platykurtic)"
   ]
  },
  {
   "cell_type": "code",
   "execution_count": 9,
   "id": "f7b780f7",
   "metadata": {},
   "outputs": [
    {
     "data": {
      "text/plain": [
       "3.2650077463439384"
      ]
     },
     "execution_count": 9,
     "metadata": {},
     "output_type": "execute_result"
    }
   ],
   "source": [
    "stats.kurtosis(feature, fisher = False)"
   ]
  },
  {
   "cell_type": "markdown",
   "id": "3b935cb9",
   "metadata": {},
   "source": [
    "Leptokurtic (Kurtosis >3)"
   ]
  }
 ],
 "metadata": {
  "kernelspec": {
   "display_name": "Python (dojo-env)",
   "language": "python",
   "name": "dojo-env"
  },
  "language_info": {
   "codemirror_mode": {
    "name": "ipython",
    "version": 3
   },
   "file_extension": ".py",
   "mimetype": "text/x-python",
   "name": "python",
   "nbconvert_exporter": "python",
   "pygments_lexer": "ipython3",
   "version": "3.9.15"
  },
  "toc": {
   "base_numbering": 1,
   "nav_menu": {},
   "number_sections": true,
   "sideBar": true,
   "skip_h1_title": false,
   "title_cell": "Table of Contents",
   "title_sidebar": "Contents",
   "toc_cell": false,
   "toc_position": {},
   "toc_section_display": true,
   "toc_window_display": false
  }
 },
 "nbformat": 4,
 "nbformat_minor": 5
}
